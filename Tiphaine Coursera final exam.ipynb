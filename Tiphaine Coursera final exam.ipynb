{
  "metadata": {
    "kernelspec": {
      "name": "python",
      "display_name": "Pyolite",
      "language": "python"
    },
    "language_info": {
      "codemirror_mode": {
        "name": "python",
        "version": 3
      },
      "file_extension": ".py",
      "mimetype": "text/x-python",
      "name": "python",
      "nbconvert_exporter": "python",
      "pygments_lexer": "ipython3",
      "version": "3.8"
    }
  },
  "nbformat_minor": 4,
  "nbformat": 4,
  "cells": [
    {
      "cell_type": "markdown",
      "source": "<center>\n    <img src=\"https://s3-api.us-geo.objectstorage.softlayer.net/cf-courses-data/CognitiveClass/Logos/organization_logo/organization_logo.png\" width=\"300\" alt=\"cognitiveclass.ai logo\"  />\n</center>\n",
      "metadata": {}
    },
    {
      "cell_type": "markdown",
      "source": "#### Add your code below following the instructions given in the course\n",
      "metadata": {}
    },
    {
      "cell_type": "markdown",
      "source": "# My Jupyter Notebook on IBM Watson Studio",
      "metadata": {}
    },
    {
      "cell_type": "markdown",
      "source": "**Tiphaine Bayon**\n\nAdministrative Project Management",
      "metadata": {}
    },
    {
      "cell_type": "markdown",
      "source": "*I am interested in data science because I am confronted to large amounts of data in my actual position, without being able to manage them as efficiently as I would like to. I wish to be able to extract meaning to them.*",
      "metadata": {}
    },
    {
      "cell_type": "markdown",
      "source": "### My code is dividing 10 by 2.",
      "metadata": {}
    },
    {
      "cell_type": "code",
      "source": "print (10/2)",
      "metadata": {
        "trusted": true
      },
      "execution_count": 1,
      "outputs": [
        {
          "name": "stdout",
          "text": "5.0\n",
          "output_type": "stream"
        }
      ]
    },
    {
      "cell_type": "markdown",
      "source": "1. Example of numbered list, with an ~~Exemple~~ of strikethrough\n\n\n2. Example of Table\n\n| Example    | of          | organized Table    |\n| -------    |------------ | :-------:          |\n| column 3   | is set as centered | OK          |\n| column 3   | is set as centered | OK          |\n\n\n\n3. Example of bulleted list\n   * First bullet\n   * Second bullet\n\n\n\n4. Example of link\n[Link to google image](https://www.google.com/search?q=image&rlz=1C1GCEB_en__925__925&source=lnms&tbm=isch&sa=X&ved=2ahUKEwjMrpvE5_r4AhUE36QKHbFdDSsQ_AUoAXoECAIQAw&biw=1680&bih=907&dpr=1)\n",
      "metadata": {}
    }
  ]
}